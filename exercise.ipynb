{
 "cells": [
  {
   "cell_type": "markdown",
   "metadata": {},
   "source": [
    "1. Print Statements:"
   ]
  },
  {
   "cell_type": "code",
   "execution_count": null,
   "metadata": {},
   "outputs": [],
   "source": [
    "name = \"shahzad\"\n",
    "age = 28\n",
    "\n",
    "print(\"Hello, my name is\", name, \"and I am\", age, \"years old.\")"
   ]
  },
  {
   "cell_type": "markdown",
   "metadata": {},
   "source": [
    "2. Strings:"
   ]
  },
  {
   "cell_type": "code",
   "execution_count": 36,
   "metadata": {},
   "outputs": [
    {
     "name": "stdout",
     "output_type": "stream",
     "text": [
      "HELLO, MY DEAR SIR ZIA KHAN!\n",
      "hello, my dear sir zia khan!\n",
      "Hello, My Dear Sir Zia Khan!\n"
     ]
    }
   ],
   "source": [
    "texting = \"Hello, My Dear Sir Zia Khan!\"\n",
    "print(texting.upper())  # Output: HELLO, WORLD!\n",
    "print(texting.lower())  # Output: hello, world!\n",
    "print(texting.replace(\"world\", \"there\"))  # Output: Hello, there!"
   ]
  },
  {
   "cell_type": "markdown",
   "metadata": {},
   "source": [
    "3. f-Strings:"
   ]
  },
  {
   "cell_type": "code",
   "execution_count": null,
   "metadata": {},
   "outputs": [],
   "source": [
    "name = \"Muhammad Shahzad\"\n",
    "age = 28\n",
    "\n",
    "print(f\"Hello, my name is {name} and I am {age} years old.\")"
   ]
  },
  {
   "cell_type": "markdown",
   "metadata": {},
   "source": [
    "4. Operators:"
   ]
  },
  {
   "cell_type": "code",
   "execution_count": null,
   "metadata": {},
   "outputs": [],
   "source": [
    "x = 7\n",
    "y = 4\n",
    "\n",
    "print(x + y)  # Output: 11\n",
    "print(x - y)  # Output: 3\n",
    "print(x * y)  # Output: 28\n",
    "print(x / y)  # Output: 1.75\n",
    "print(x % y)  # Output: 3\n",
    "print(x ** y)  # Output: 2401"
   ]
  },
  {
   "cell_type": "markdown",
   "metadata": {},
   "source": [
    "5. Lists:"
   ]
  },
  {
   "cell_type": "code",
   "execution_count": null,
   "metadata": {},
   "outputs": [],
   "source": [
    "fruits = [\"grape\", \"mango\", \"cherry\"]\n",
    "print(fruits[0])  # Output: grape\n",
    "fruits.append(\"orange\")\n",
    "print(fruits)  # Output: ['grape', 'mango', 'cherry', 'orange']\n",
    "fruits.remove(\"mango\")\n",
    "print(fruits)  # Output: ['grape', 'cherry', 'orange']"
   ]
  },
  {
   "cell_type": "markdown",
   "metadata": {},
   "source": [
    "6. Tuples:\n",
    "   "
   ]
  },
  {
   "cell_type": "code",
   "execution_count": null,
   "metadata": {},
   "outputs": [],
   "source": [
    "numbers = (5, 19, 40)\n",
    "print(numbers[0])  # Output: 5\n",
    "#numbers[0] = 5  # This will raise an error as tuples are immutable"
   ]
  },
  {
   "cell_type": "markdown",
   "metadata": {},
   "source": [
    "7. For Loops:"
   ]
  },
  {
   "cell_type": "code",
   "execution_count": null,
   "metadata": {},
   "outputs": [],
   "source": [
    "for i in range(6):\n",
    "    print(i)  # Output: 0 1 2 3 4 5\n",
    "\n",
    "numbers = [1, 2, 3, 4, 5, 6]\n",
    "for number in numbers:\n",
    "    print(number)  # Output: 1 2 3 4 5 6"
   ]
  },
  {
   "cell_type": "markdown",
   "metadata": {},
   "source": [
    "8. Input Handling:"
   ]
  },
  {
   "cell_type": "code",
   "execution_count": null,
   "metadata": {},
   "outputs": [],
   "source": [
    "name = input(\"Enter your name: \")\n",
    "print(\"Hello, \" + name + \"!\")"
   ]
  },
  {
   "cell_type": "code",
   "execution_count": null,
   "metadata": {},
   "outputs": [],
   "source": [
    "age = input(\"Enter your age: \")\n",
    "print(\"my age is, \" + age + \"\")"
   ]
  }
 ],
 "metadata": {
  "kernelspec": {
   "display_name": "Python 3",
   "language": "python",
   "name": "python3"
  },
  "language_info": {
   "codemirror_mode": {
    "name": "ipython",
    "version": 3
   },
   "file_extension": ".py",
   "mimetype": "text/x-python",
   "name": "python",
   "nbconvert_exporter": "python",
   "pygments_lexer": "ipython3",
   "version": "3.12.4"
  }
 },
 "nbformat": 4,
 "nbformat_minor": 2
}
